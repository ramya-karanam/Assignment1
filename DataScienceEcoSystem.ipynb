{
  "metadata": {
    "kernelspec": {
      "name": "python",
      "display_name": "Python (Pyodide)",
      "language": "python"
    },
    "language_info": {
      "codemirror_mode": {
        "name": "python",
        "version": 3
      },
      "file_extension": ".py",
      "mimetype": "text/x-python",
      "name": "python",
      "nbconvert_exporter": "python",
      "pygments_lexer": "ipython3",
      "version": "3.8"
    }
  },
  "nbformat_minor": 5,
  "nbformat": 4,
  "cells": [
    {
      "id": "8b915e05-938b-449c-abbc-093de0ef6493",
      "cell_type": "markdown",
      "source": "# Data Science Tools and Ecosystem",
      "metadata": {}
    },
    {
      "id": "acccc6be-cdec-46f3-af84-2db2d50f5dfa",
      "cell_type": "markdown",
      "source": "### In this notebook, Data science tools and Ecosystem are summarized",
      "metadata": {}
    },
    {
      "id": "f8ca485a-fd3c-4b11-81c8-680c8d93e228",
      "cell_type": "markdown",
      "source": "**Objectives:**\n\n-List popular languages for Data Science\n\n-List popular libraries for Data Science\n\n-List popular tools for Data Science\n\n-evaluated arithmetic expressions",
      "metadata": {}
    },
    {
      "id": "5c58fcc4-f821-4ba7-bd37-bf3767f35354",
      "cell_type": "markdown",
      "source": "Some of the popular languages that Data Scientists use are:\n1. Python\n2. R\n3. SQL\n4. JAVA\n5. SCALA",
      "metadata": {}
    },
    {
      "id": "54d8a57f-25f4-4eb0-a1dd-bcf6c2c46499",
      "cell_type": "markdown",
      "source": "Some of the commonly used libraries used by Data Scientists include:\n1. Pandas\n2. Numpy\n3. Matplotlib\n4. Keras\n5. Tensorflow",
      "metadata": {}
    },
    {
      "id": "0edd1b61-42d2-4a34-9089-44f103cbdd1c",
      "cell_type": "markdown",
      "source": "| Data Science Tools |\n|---------------------|\n| Jupyter Notebook |\n| Rstudio |\n| Zepplin |\n| Spyder |",
      "metadata": {}
    },
    {
      "id": "230da675-c948-4fbb-848f-ecbd3d3ba55a",
      "cell_type": "markdown",
      "source": "### Below are a few examples of evaluating arithmetic expressions in Python",
      "metadata": {}
    },
    {
      "id": "90790eff-82cf-491f-99aa-0dad67cd9448",
      "cell_type": "code",
      "source": "# This a simple arithmetic expression to mutiply then add integers\n(3*4)+5",
      "metadata": {
        "trusted": true
      },
      "outputs": [
        {
          "execution_count": 1,
          "output_type": "execute_result",
          "data": {
            "text/plain": "17"
          },
          "metadata": {}
        }
      ],
      "execution_count": 1
    },
    {
      "id": "b43222f8-82e4-4535-b735-b5f2211cea42",
      "cell_type": "code",
      "source": "#  This will convert 200 minutes to hours by diving by 60\n\n200/60",
      "metadata": {
        "trusted": true
      },
      "outputs": [
        {
          "execution_count": 3,
          "output_type": "execute_result",
          "data": {
            "text/plain": "3.3333333333333335"
          },
          "metadata": {}
        }
      ],
      "execution_count": 3
    },
    {
      "id": "4eac88d1-1813-4882-a480-042663b5f3f2",
      "cell_type": "markdown",
      "source": "## Author\nRamya K",
      "metadata": {}
    },
    {
      "id": "1578fe63-dc95-45b6-aeae-971e4ab6a8b5",
      "cell_type": "code",
      "source": "",
      "metadata": {
        "trusted": true
      },
      "outputs": [],
      "execution_count": null
    }
  ]
}